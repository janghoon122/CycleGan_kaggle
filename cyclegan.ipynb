{
 "cells": [
  {
   "cell_type": "code",
   "execution_count": 1,
   "id": "74256b26",
   "metadata": {
    "_cell_guid": "b1076dfc-b9ad-4769-8c92-a6c4dae69d19",
    "_uuid": "8f2839f25d086af736a60e9eeb907d3b93b6e0e5",
    "execution": {
     "iopub.execute_input": "2024-08-12T02:58:39.173022Z",
     "iopub.status.busy": "2024-08-12T02:58:39.171946Z",
     "iopub.status.idle": "2024-08-12T02:58:40.103554Z",
     "shell.execute_reply": "2024-08-12T02:58:40.102506Z"
    },
    "papermill": {
     "duration": 0.938956,
     "end_time": "2024-08-12T02:58:40.106518",
     "exception": false,
     "start_time": "2024-08-12T02:58:39.167562",
     "status": "completed"
    },
    "tags": []
   },
   "outputs": [],
   "source": [
    "# This Python 3 environment comes with many helpful analytics libraries installed\n",
    "# It is defined by the kaggle/python Docker image: https://github.com/kaggle/docker-python\n",
    "# For example, here's several helpful packages to load\n",
    "\n",
    "import numpy as np # linear algebra\n",
    "import pandas as pd # data processing, CSV file I/O (e.g. pd.read_csv)\n",
    "\n",
    "# Input data files are available in the read-only \"../input/\" directory\n",
    "# For example, running this (by clicking run or pressing Shift+Enter) will list all files under the input directory\n",
    "\n",
    "import os\n",
    "for dirname, _, filenames in os.walk('/kaggle/input'):\n",
    "    for filename in filenames:\n",
    "        print(os.path.join(dirname, filename))\n",
    "\n",
    "# You can write up to 20GB to the current directory (/kaggle/working/) that gets preserved as output when you create a version using \"Save & Run All\" \n",
    "# You can also write temporary files to /kaggle/temp/, but they won't be saved outside of the current session"
   ]
  },
  {
   "cell_type": "markdown",
   "id": "caf06da7",
   "metadata": {
    "papermill": {
     "duration": 0.002186,
     "end_time": "2024-08-12T02:58:40.111242",
     "exception": false,
     "start_time": "2024-08-12T02:58:40.109056",
     "status": "completed"
    },
    "tags": []
   },
   "source": [
    "Process:\n",
    "\n",
    "GAN1\n",
    "\n",
    "- Painting --> Generator1--> generated_photo1\n",
    "- generated_photo-->discriminator--> real/fake\n",
    "\n",
    "GAN2\n",
    "\n",
    "- photo-->Generator2--> generated_painting1\n",
    "- generated_painting--> discriminator--> real/fake\n",
    "\n",
    "Forward cycle :\n",
    "- enerated_photo1-->Generator2-->generated_painting_FW\n",
    "- loss calculates the difference betwwen painting and generated_painting_FW\n",
    "- update Generator2\n",
    "\n",
    "Forward cycle consistency loss:\n",
    "- Input paiting to GAN1\n",
    "- Output photo(generated) from GAN1\n",
    "- Input photo(generated) from GAN1 to GAN2\n",
    "- Output painting(generated) from GAN2\n",
    "- Compare painting(real) to painting from GAN2(generated)\n",
    "\n",
    "Backward cycle :\n",
    "- generated_painting1-->Generator1-->generated_photo_BW\n",
    "- loss calculates the difference betwwen photo and generated_photo_BW\n",
    "- update Generator1\n",
    "\n",
    "Backward cycle consistency loss:\n",
    "- Input photo to GAN2\n",
    "- Output painting(generated) from GAN2\n",
    "- Input painting(generated) from GAN2 to GAN1\n",
    "- Output photo(generated) from GAN1\n",
    "- Compare painting(real) to painting from GAN1(generate"
   ]
  },
  {
   "cell_type": "markdown",
   "id": "65df74da",
   "metadata": {
    "papermill": {
     "duration": 0.001854,
     "end_time": "2024-08-12T02:58:40.115444",
     "exception": false,
     "start_time": "2024-08-12T02:58:40.113590",
     "status": "completed"
    },
    "tags": []
   },
   "source": []
  }
 ],
 "metadata": {
  "kaggle": {
   "accelerator": "none",
   "dataSources": [],
   "dockerImageVersionId": 30746,
   "isGpuEnabled": false,
   "isInternetEnabled": true,
   "language": "python",
   "sourceType": "notebook"
  },
  "kernelspec": {
   "display_name": "Python 3",
   "language": "python",
   "name": "python3"
  },
  "language_info": {
   "codemirror_mode": {
    "name": "ipython",
    "version": 3
   },
   "file_extension": ".py",
   "mimetype": "text/x-python",
   "name": "python",
   "nbconvert_exporter": "python",
   "pygments_lexer": "ipython3",
   "version": "3.10.13"
  },
  "papermill": {
   "default_parameters": {},
   "duration": 4.59202,
   "end_time": "2024-08-12T02:58:40.639069",
   "environment_variables": {},
   "exception": null,
   "input_path": "__notebook__.ipynb",
   "output_path": "__notebook__.ipynb",
   "parameters": {},
   "start_time": "2024-08-12T02:58:36.047049",
   "version": "2.5.0"
  }
 },
 "nbformat": 4,
 "nbformat_minor": 5
}
