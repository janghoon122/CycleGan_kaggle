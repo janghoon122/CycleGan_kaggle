{
 "cells": [
  {
   "cell_type": "code",
   "execution_count": 1,
   "id": "ce64b771",
   "metadata": {
    "_cell_guid": "b1076dfc-b9ad-4769-8c92-a6c4dae69d19",
    "_uuid": "8f2839f25d086af736a60e9eeb907d3b93b6e0e5",
    "execution": {
     "iopub.execute_input": "2024-08-16T01:06:47.390142Z",
     "iopub.status.busy": "2024-08-16T01:06:47.389829Z",
     "iopub.status.idle": "2024-08-16T01:06:48.176618Z",
     "shell.execute_reply": "2024-08-16T01:06:48.175874Z"
    },
    "papermill": {
     "duration": 0.795393,
     "end_time": "2024-08-16T01:06:48.179182",
     "exception": false,
     "start_time": "2024-08-16T01:06:47.383789",
     "status": "completed"
    },
    "tags": []
   },
   "outputs": [],
   "source": [
    "# This Python 3 environment comes with many helpful analytics libraries installed\n",
    "# It is defined by the kaggle/python Docker image: https://github.com/kaggle/docker-python\n",
    "# For example, here's several helpful packages to load\n",
    "\n",
    "import numpy as np # linear algebra\n",
    "import pandas as pd # data processing, CSV file I/O (e.g. pd.read_csv)\n",
    "\n",
    "# Input data files are available in the read-only \"../input/\" directory\n",
    "# For example, running this (by clicking run or pressing Shift+Enter) will list all files under the input directory\n",
    "\n",
    "# import os\n",
    "# for dirname, _, filenames in os.walk('/kaggle/input'):\n",
    "#     for filename in filenames:\n",
    "#         print(os.path.join(dirname, filename))\n",
    "\n",
    "# You can write up to 20GB to the current directory (/kaggle/working/) that gets preserved as output when you create a version using \"Save & Run All\" \n",
    "# You can also write temporary files to /kaggle/temp/, but they won't be saved outside of the current session"
   ]
  },
  {
   "cell_type": "code",
   "execution_count": 2,
   "id": "d3a45369",
   "metadata": {
    "execution": {
     "iopub.execute_input": "2024-08-16T01:06:48.188915Z",
     "iopub.status.busy": "2024-08-16T01:06:48.188546Z",
     "iopub.status.idle": "2024-08-16T01:06:48.214929Z",
     "shell.execute_reply": "2024-08-16T01:06:48.214059Z"
    },
    "papermill": {
     "duration": 0.033233,
     "end_time": "2024-08-16T01:06:48.216928",
     "exception": false,
     "start_time": "2024-08-16T01:06:48.183695",
     "status": "completed"
    },
    "tags": []
   },
   "outputs": [],
   "source": [
    "%reload_ext autoreload\n",
    "%autoreload 2\n",
    "%matplotlib inline"
   ]
  },
  {
   "cell_type": "code",
   "execution_count": 3,
   "id": "1795d9c6",
   "metadata": {
    "execution": {
     "iopub.execute_input": "2024-08-16T01:06:48.225637Z",
     "iopub.status.busy": "2024-08-16T01:06:48.225340Z",
     "iopub.status.idle": "2024-08-16T01:06:54.709531Z",
     "shell.execute_reply": "2024-08-16T01:06:54.708565Z"
    },
    "papermill": {
     "duration": 6.491164,
     "end_time": "2024-08-16T01:06:54.711897",
     "exception": false,
     "start_time": "2024-08-16T01:06:48.220733",
     "status": "completed"
    },
    "tags": []
   },
   "outputs": [],
   "source": [
    "from glob import glob\n",
    "import itertools\n",
    "import matplotlib.pyplot as plt\n",
    "import numpy as np\n",
    "import os\n",
    "import pandas as pd\n",
    "import PIL\n",
    "from PIL import Image\n",
    "import random\n",
    "import shutil\n",
    "from sklearn.model_selection import GroupKFold\n",
    "from sklearn.metrics import roc_curve\n",
    "from sklearn import metrics\n",
    "import time\n",
    "from tqdm.notebook import tqdm\n",
    "\n",
    "import torch\n",
    "import torch.nn as nn\n",
    "import torch.nn.functional as F\n",
    "import torch.nn.init as init\n",
    "from torch.utils.data import Dataset, random_split, DataLoader\n",
    "\n",
    "import torchvision.models as models\n",
    "import torchvision.transforms as transforms"
   ]
  },
  {
   "cell_type": "markdown",
   "id": "38e3a983",
   "metadata": {
    "papermill": {
     "duration": 0.003746,
     "end_time": "2024-08-16T01:06:54.719687",
     "exception": false,
     "start_time": "2024-08-16T01:06:54.715941",
     "status": "completed"
    },
    "tags": []
   },
   "source": [
    "# Seed"
   ]
  },
  {
   "cell_type": "code",
   "execution_count": 4,
   "id": "d2d7b14e",
   "metadata": {
    "execution": {
     "iopub.execute_input": "2024-08-16T01:06:54.728295Z",
     "iopub.status.busy": "2024-08-16T01:06:54.727874Z",
     "iopub.status.idle": "2024-08-16T01:06:54.773593Z",
     "shell.execute_reply": "2024-08-16T01:06:54.772731Z"
    },
    "papermill": {
     "duration": 0.052085,
     "end_time": "2024-08-16T01:06:54.775448",
     "exception": false,
     "start_time": "2024-08-16T01:06:54.723363",
     "status": "completed"
    },
    "tags": []
   },
   "outputs": [],
   "source": [
    "def set_seed(seed):\n",
    "    random.seed(seed)\n",
    "    os.environ['PYTHONHASHSEED'] = str(seed)\n",
    "    np.random.seed(seed)\n",
    "    torch.manual_seed(seed)\n",
    "    torch.cuda.manual_seed(seed)\n",
    "    torch.backends.cudnn.deterministic = True"
   ]
  },
  {
   "cell_type": "code",
   "execution_count": 5,
   "id": "963cf19b",
   "metadata": {
    "execution": {
     "iopub.execute_input": "2024-08-16T01:06:54.784012Z",
     "iopub.status.busy": "2024-08-16T01:06:54.783751Z",
     "iopub.status.idle": "2024-08-16T01:06:54.887839Z",
     "shell.execute_reply": "2024-08-16T01:06:54.886976Z"
    },
    "papermill": {
     "duration": 0.110502,
     "end_time": "2024-08-16T01:06:54.889792",
     "exception": false,
     "start_time": "2024-08-16T01:06:54.779290",
     "status": "completed"
    },
    "tags": []
   },
   "outputs": [
    {
     "data": {
      "text/plain": [
       "'cuda'"
      ]
     },
     "execution_count": 5,
     "metadata": {},
     "output_type": "execute_result"
    }
   ],
   "source": [
    "device = 'cuda' if torch.cuda.is_available() else 'cpu'\n",
    "device"
   ]
  },
  {
   "cell_type": "code",
   "execution_count": 6,
   "id": "d2ff9b0f",
   "metadata": {
    "execution": {
     "iopub.execute_input": "2024-08-16T01:06:54.898705Z",
     "iopub.status.busy": "2024-08-16T01:06:54.898428Z",
     "iopub.status.idle": "2024-08-16T01:06:54.944365Z",
     "shell.execute_reply": "2024-08-16T01:06:54.943686Z"
    },
    "papermill": {
     "duration": 0.052534,
     "end_time": "2024-08-16T01:06:54.946303",
     "exception": false,
     "start_time": "2024-08-16T01:06:54.893769",
     "status": "completed"
    },
    "tags": []
   },
   "outputs": [],
   "source": [
    "set_seed(719)"
   ]
  },
  {
   "cell_type": "markdown",
   "id": "fc210a05",
   "metadata": {
    "papermill": {
     "duration": 0.00366,
     "end_time": "2024-08-16T01:06:54.953869",
     "exception": false,
     "start_time": "2024-08-16T01:06:54.950209",
     "status": "completed"
    },
    "tags": []
   },
   "source": [
    "# Dataset and Dataloader"
   ]
  },
  {
   "cell_type": "code",
   "execution_count": 7,
   "id": "96e26d20",
   "metadata": {
    "execution": {
     "iopub.execute_input": "2024-08-16T01:06:54.963008Z",
     "iopub.status.busy": "2024-08-16T01:06:54.962767Z",
     "iopub.status.idle": "2024-08-16T01:06:55.017349Z",
     "shell.execute_reply": "2024-08-16T01:06:55.016316Z"
    },
    "papermill": {
     "duration": 0.061772,
     "end_time": "2024-08-16T01:06:55.019639",
     "exception": false,
     "start_time": "2024-08-16T01:06:54.957867",
     "status": "completed"
    },
    "tags": []
   },
   "outputs": [],
   "source": [
    "class ImageDataset(Dataset):\n",
    "    def __init__(self, monet_dir, photo_dir, size=(256, 256), normalize=True):\n",
    "        super().__init__()\n",
    "        self.monet_dir = monet_dir\n",
    "        self.photo_dir = photo_dir\n",
    "        self.monet_idx = dict()\n",
    "        self.photo_idx = dict()\n",
    "        if normalize:\n",
    "            self.transform = transforms.Compose([\n",
    "                transforms.Resize(size),\n",
    "                transforms.ToTensor(),\n",
    "                transforms.Normalize((0.5, 0.5, 0.5), (0.5, 0.5, 0.5)) # pixel range -->  -1 ~ 1\n",
    "            ])\n",
    "        else:\n",
    "            self.transform = transforms.Compose([\n",
    "                transforms.Resize(size),\n",
    "                transforms.ToTensor()\n",
    "            ])\n",
    "        for ii, fl in enumerate(os.listdir(self.monet_dir)):\n",
    "            self.monet_idx[ii] = fl\n",
    "        for ii, fl in enumerate(os.listdir(self.photo_dir)):\n",
    "            self.photo_idx[ii] = fl\n",
    "            \n",
    "    def __getitem__(self, idx):\n",
    "        rand_idx = int(np.random.uniform(0, len(self.monet_idx.keys())))\n",
    "        photo_path = os.path.join(self.photo_dir, self.photo_idx[rand_idx])\n",
    "        monet_path = os.path.join(self.monet_dir, self.monet_idx[idx])\n",
    "        photo_img = Image.open(photo_path)\n",
    "        photo_img = self.transform(photo_img)\n",
    "        monet_img = Image.open(monet_path)\n",
    "        monet_img = self.transform(monet_img)\n",
    "        return photo_img, monet_img\n",
    "    \n",
    "    def __len__(self):\n",
    "        return min(len(self.monet_idx.keys()), len(self.photo_idx.keys()))"
   ]
  },
  {
   "cell_type": "code",
   "execution_count": 8,
   "id": "a41cc5c2",
   "metadata": {
    "execution": {
     "iopub.execute_input": "2024-08-16T01:06:55.030650Z",
     "iopub.status.busy": "2024-08-16T01:06:55.030343Z",
     "iopub.status.idle": "2024-08-16T01:06:55.195871Z",
     "shell.execute_reply": "2024-08-16T01:06:55.195199Z"
    },
    "papermill": {
     "duration": 0.173379,
     "end_time": "2024-08-16T01:06:55.197838",
     "exception": false,
     "start_time": "2024-08-16T01:06:55.024459",
     "status": "completed"
    },
    "tags": []
   },
   "outputs": [],
   "source": [
    "img_ds = ImageDataset('/kaggle/input/gan-getting-started/monet_jpg/', \\\n",
    "                      '/kaggle/input/gan-getting-started/photo_jpg/')"
   ]
  },
  {
   "cell_type": "code",
   "execution_count": 9,
   "id": "ba8a5547",
   "metadata": {
    "execution": {
     "iopub.execute_input": "2024-08-16T01:06:55.207015Z",
     "iopub.status.busy": "2024-08-16T01:06:55.206553Z",
     "iopub.status.idle": "2024-08-16T01:06:55.249446Z",
     "shell.execute_reply": "2024-08-16T01:06:55.248775Z"
    },
    "papermill": {
     "duration": 0.049453,
     "end_time": "2024-08-16T01:06:55.251319",
     "exception": false,
     "start_time": "2024-08-16T01:06:55.201866",
     "status": "completed"
    },
    "tags": []
   },
   "outputs": [],
   "source": [
    "img_dl = DataLoader(img_ds, batch_size=1, pin_memory=True)"
   ]
  },
  {
   "cell_type": "code",
   "execution_count": 10,
   "id": "a3dfe102",
   "metadata": {
    "execution": {
     "iopub.execute_input": "2024-08-16T01:06:55.260753Z",
     "iopub.status.busy": "2024-08-16T01:06:55.259941Z",
     "iopub.status.idle": "2024-08-16T01:06:55.520846Z",
     "shell.execute_reply": "2024-08-16T01:06:55.519846Z"
    },
    "papermill": {
     "duration": 0.268072,
     "end_time": "2024-08-16T01:06:55.523363",
     "exception": false,
     "start_time": "2024-08-16T01:06:55.255291",
     "status": "completed"
    },
    "tags": []
   },
   "outputs": [],
   "source": [
    "photo_img, monet_img = next(iter(img_dl))"
   ]
  }
 ],
 "metadata": {
  "kaggle": {
   "accelerator": "gpu",
   "dataSources": [
    {
     "databundleVersionId": 1475600,
     "sourceId": 21755,
     "sourceType": "competition"
    }
   ],
   "dockerImageVersionId": 30748,
   "isGpuEnabled": true,
   "isInternetEnabled": true,
   "language": "python",
   "sourceType": "notebook"
  },
  "kernelspec": {
   "display_name": "Python 3",
   "language": "python",
   "name": "python3"
  },
  "language_info": {
   "codemirror_mode": {
    "name": "ipython",
    "version": 3
   },
   "file_extension": ".py",
   "mimetype": "text/x-python",
   "name": "python",
   "nbconvert_exporter": "python",
   "pygments_lexer": "ipython3",
   "version": "3.10.13"
  },
  "papermill": {
   "default_parameters": {},
   "duration": 13.21791,
   "end_time": "2024-08-16T01:06:57.766708",
   "environment_variables": {},
   "exception": null,
   "input_path": "__notebook__.ipynb",
   "output_path": "__notebook__.ipynb",
   "parameters": {},
   "start_time": "2024-08-16T01:06:44.548798",
   "version": "2.5.0"
  }
 },
 "nbformat": 4,
 "nbformat_minor": 5
}
