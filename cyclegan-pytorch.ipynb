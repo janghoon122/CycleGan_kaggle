{
 "cells": [
  {
   "cell_type": "code",
   "execution_count": 1,
   "id": "256b975e",
   "metadata": {
    "_cell_guid": "b1076dfc-b9ad-4769-8c92-a6c4dae69d19",
    "_uuid": "8f2839f25d086af736a60e9eeb907d3b93b6e0e5",
    "execution": {
     "iopub.execute_input": "2024-08-17T12:29:55.252407Z",
     "iopub.status.busy": "2024-08-17T12:29:55.251762Z",
     "iopub.status.idle": "2024-08-17T12:29:56.022289Z",
     "shell.execute_reply": "2024-08-17T12:29:56.021522Z"
    },
    "papermill": {
     "duration": 0.779433,
     "end_time": "2024-08-17T12:29:56.024652",
     "exception": false,
     "start_time": "2024-08-17T12:29:55.245219",
     "status": "completed"
    },
    "tags": []
   },
   "outputs": [],
   "source": [
    "# This Python 3 environment comes with many helpful analytics libraries installed\n",
    "# It is defined by the kaggle/python Docker image: https://github.com/kaggle/docker-python\n",
    "# For example, here's several helpful packages to load\n",
    "\n",
    "import numpy as np # linear algebra\n",
    "import pandas as pd # data processing, CSV file I/O (e.g. pd.read_csv)\n",
    "\n",
    "# Input data files are available in the read-only \"../input/\" directory\n",
    "# For example, running this (by clicking run or pressing Shift+Enter) will list all files under the input directory\n",
    "\n",
    "# import os\n",
    "# for dirname, _, filenames in os.walk('/kaggle/input'):\n",
    "#     for filename in filenames:\n",
    "#         print(os.path.join(dirname, filename))\n",
    "\n",
    "# You can write up to 20GB to the current directory (/kaggle/working/) that gets preserved as output when you create a version using \"Save & Run All\" \n",
    "# You can also write temporary files to /kaggle/temp/, but they won't be saved outside of the current session"
   ]
  },
  {
   "cell_type": "code",
   "execution_count": 2,
   "id": "3efeac95",
   "metadata": {
    "execution": {
     "iopub.execute_input": "2024-08-17T12:29:56.034936Z",
     "iopub.status.busy": "2024-08-17T12:29:56.034575Z",
     "iopub.status.idle": "2024-08-17T12:29:56.061076Z",
     "shell.execute_reply": "2024-08-17T12:29:56.060371Z"
    },
    "papermill": {
     "duration": 0.033538,
     "end_time": "2024-08-17T12:29:56.062940",
     "exception": false,
     "start_time": "2024-08-17T12:29:56.029402",
     "status": "completed"
    },
    "tags": []
   },
   "outputs": [],
   "source": [
    "%reload_ext autoreload\n",
    "%autoreload 2\n",
    "%matplotlib inline"
   ]
  },
  {
   "cell_type": "code",
   "execution_count": 3,
   "id": "11dc8510",
   "metadata": {
    "execution": {
     "iopub.execute_input": "2024-08-17T12:29:56.072315Z",
     "iopub.status.busy": "2024-08-17T12:29:56.072073Z",
     "iopub.status.idle": "2024-08-17T12:30:02.561130Z",
     "shell.execute_reply": "2024-08-17T12:30:02.560208Z"
    },
    "papermill": {
     "duration": 6.496406,
     "end_time": "2024-08-17T12:30:02.563505",
     "exception": false,
     "start_time": "2024-08-17T12:29:56.067099",
     "status": "completed"
    },
    "tags": []
   },
   "outputs": [],
   "source": [
    "from glob import glob\n",
    "import itertools\n",
    "import matplotlib.pyplot as plt\n",
    "import numpy as np\n",
    "import os\n",
    "import pandas as pd\n",
    "import PIL\n",
    "from PIL import Image\n",
    "import random\n",
    "import shutil\n",
    "from sklearn.model_selection import GroupKFold\n",
    "from sklearn.metrics import roc_curve\n",
    "from sklearn import metrics\n",
    "import time\n",
    "from tqdm.notebook import tqdm\n",
    "\n",
    "import torch\n",
    "import torch.nn as nn\n",
    "import torch.nn.functional as F\n",
    "import torch.nn.init as init\n",
    "from torch.utils.data import Dataset, random_split, DataLoader\n",
    "\n",
    "import torchvision.models as models\n",
    "import torchvision.transforms as transforms"
   ]
  },
  {
   "cell_type": "markdown",
   "id": "1cf36434",
   "metadata": {
    "papermill": {
     "duration": 0.003965,
     "end_time": "2024-08-17T12:30:02.571984",
     "exception": false,
     "start_time": "2024-08-17T12:30:02.568019",
     "status": "completed"
    },
    "tags": []
   },
   "source": [
    "# Seed"
   ]
  },
  {
   "cell_type": "code",
   "execution_count": 4,
   "id": "9ed14e79",
   "metadata": {
    "execution": {
     "iopub.execute_input": "2024-08-17T12:30:02.581500Z",
     "iopub.status.busy": "2024-08-17T12:30:02.581066Z",
     "iopub.status.idle": "2024-08-17T12:30:02.626420Z",
     "shell.execute_reply": "2024-08-17T12:30:02.625724Z"
    },
    "papermill": {
     "duration": 0.05234,
     "end_time": "2024-08-17T12:30:02.628408",
     "exception": false,
     "start_time": "2024-08-17T12:30:02.576068",
     "status": "completed"
    },
    "tags": []
   },
   "outputs": [],
   "source": [
    "def set_seed(seed):\n",
    "    random.seed(seed)\n",
    "    os.environ['PYTHONHASHSEED'] = str(seed)\n",
    "    np.random.seed(seed)\n",
    "    torch.manual_seed(seed)\n",
    "    torch.cuda.manual_seed(seed)\n",
    "    torch.backends.cudnn.deterministic = True"
   ]
  },
  {
   "cell_type": "code",
   "execution_count": 5,
   "id": "35ebc2a4",
   "metadata": {
    "execution": {
     "iopub.execute_input": "2024-08-17T12:30:02.637888Z",
     "iopub.status.busy": "2024-08-17T12:30:02.637558Z",
     "iopub.status.idle": "2024-08-17T12:30:02.740657Z",
     "shell.execute_reply": "2024-08-17T12:30:02.739764Z"
    },
    "papermill": {
     "duration": 0.110206,
     "end_time": "2024-08-17T12:30:02.742706",
     "exception": false,
     "start_time": "2024-08-17T12:30:02.632500",
     "status": "completed"
    },
    "tags": []
   },
   "outputs": [
    {
     "data": {
      "text/plain": [
       "'cuda'"
      ]
     },
     "execution_count": 5,
     "metadata": {},
     "output_type": "execute_result"
    }
   ],
   "source": [
    "device = 'cuda' if torch.cuda.is_available() else 'cpu'\n",
    "device"
   ]
  },
  {
   "cell_type": "code",
   "execution_count": 6,
   "id": "dad3319a",
   "metadata": {
    "execution": {
     "iopub.execute_input": "2024-08-17T12:30:02.752769Z",
     "iopub.status.busy": "2024-08-17T12:30:02.752504Z",
     "iopub.status.idle": "2024-08-17T12:30:02.799317Z",
     "shell.execute_reply": "2024-08-17T12:30:02.798631Z"
    },
    "papermill": {
     "duration": 0.053863,
     "end_time": "2024-08-17T12:30:02.801233",
     "exception": false,
     "start_time": "2024-08-17T12:30:02.747370",
     "status": "completed"
    },
    "tags": []
   },
   "outputs": [],
   "source": [
    "set_seed(719)"
   ]
  },
  {
   "cell_type": "markdown",
   "id": "5237145c",
   "metadata": {
    "papermill": {
     "duration": 0.004123,
     "end_time": "2024-08-17T12:30:02.809676",
     "exception": false,
     "start_time": "2024-08-17T12:30:02.805553",
     "status": "completed"
    },
    "tags": []
   },
   "source": [
    "# Dataset and Dataloader"
   ]
  },
  {
   "cell_type": "code",
   "execution_count": 7,
   "id": "3818f03f",
   "metadata": {
    "execution": {
     "iopub.execute_input": "2024-08-17T12:30:02.819286Z",
     "iopub.status.busy": "2024-08-17T12:30:02.819036Z",
     "iopub.status.idle": "2024-08-17T12:30:02.868803Z",
     "shell.execute_reply": "2024-08-17T12:30:02.868134Z"
    },
    "papermill": {
     "duration": 0.056717,
     "end_time": "2024-08-17T12:30:02.870615",
     "exception": false,
     "start_time": "2024-08-17T12:30:02.813898",
     "status": "completed"
    },
    "tags": []
   },
   "outputs": [],
   "source": [
    "class ImageDataset(Dataset):\n",
    "    def __init__(self, monet_dir, photo_dir, size=(256, 256), normalize=True):\n",
    "        super().__init__()\n",
    "        self.monet_dir = monet_dir\n",
    "        self.photo_dir = photo_dir\n",
    "        self.monet_idx = dict()\n",
    "        self.photo_idx = dict()\n",
    "        if normalize:\n",
    "            self.transform = transforms.Compose([\n",
    "                transforms.Resize(size),\n",
    "                transforms.ToTensor(),\n",
    "                transforms.Normalize((0.5, 0.5, 0.5), (0.5, 0.5, 0.5)) # pixel range -->  -1 ~ 1\n",
    "            ])\n",
    "        else:\n",
    "            self.transform = transforms.Compose([\n",
    "                transforms.Resize(size),\n",
    "                transforms.ToTensor()\n",
    "            ])\n",
    "        for ii, fl in enumerate(os.listdir(self.monet_dir)):\n",
    "            self.monet_idx[ii] = fl\n",
    "        for ii, fl in enumerate(os.listdir(self.photo_dir)):\n",
    "            self.photo_idx[ii] = fl\n",
    "            \n",
    "    def __getitem__(self, idx):\n",
    "        rand_idx = int(np.random.uniform(0, len(self.monet_idx.keys())))\n",
    "        photo_path = os.path.join(self.photo_dir, self.photo_idx[rand_idx])\n",
    "        monet_path = os.path.join(self.monet_dir, self.monet_idx[idx])\n",
    "        photo_img = Image.open(photo_path)\n",
    "        photo_img = self.transform(photo_img)\n",
    "        monet_img = Image.open(monet_path)\n",
    "        monet_img = self.transform(monet_img)\n",
    "        return photo_img, monet_img\n",
    "    \n",
    "    def __len__(self):\n",
    "        return min(len(self.monet_idx.keys()), len(self.photo_idx.keys()))"
   ]
  },
  {
   "cell_type": "code",
   "execution_count": 8,
   "id": "6b330213",
   "metadata": {
    "execution": {
     "iopub.execute_input": "2024-08-17T12:30:02.880137Z",
     "iopub.status.busy": "2024-08-17T12:30:02.879896Z",
     "iopub.status.idle": "2024-08-17T12:30:03.259570Z",
     "shell.execute_reply": "2024-08-17T12:30:03.258764Z"
    },
    "papermill": {
     "duration": 0.386753,
     "end_time": "2024-08-17T12:30:03.261682",
     "exception": false,
     "start_time": "2024-08-17T12:30:02.874929",
     "status": "completed"
    },
    "tags": []
   },
   "outputs": [],
   "source": [
    "img_ds = ImageDataset('/kaggle/input/gan-getting-started/monet_jpg/', \\\n",
    "                      '/kaggle/input/gan-getting-started/photo_jpg/')"
   ]
  },
  {
   "cell_type": "code",
   "execution_count": 9,
   "id": "e1f5cd9f",
   "metadata": {
    "execution": {
     "iopub.execute_input": "2024-08-17T12:30:03.271863Z",
     "iopub.status.busy": "2024-08-17T12:30:03.271586Z",
     "iopub.status.idle": "2024-08-17T12:30:03.317633Z",
     "shell.execute_reply": "2024-08-17T12:30:03.316835Z"
    },
    "papermill": {
     "duration": 0.053251,
     "end_time": "2024-08-17T12:30:03.319555",
     "exception": false,
     "start_time": "2024-08-17T12:30:03.266304",
     "status": "completed"
    },
    "tags": []
   },
   "outputs": [],
   "source": [
    "img_dl = DataLoader(img_ds, batch_size=1, pin_memory=True)"
   ]
  },
  {
   "cell_type": "code",
   "execution_count": 10,
   "id": "6dce4058",
   "metadata": {
    "execution": {
     "iopub.execute_input": "2024-08-17T12:30:03.329304Z",
     "iopub.status.busy": "2024-08-17T12:30:03.329029Z",
     "iopub.status.idle": "2024-08-17T12:30:03.596879Z",
     "shell.execute_reply": "2024-08-17T12:30:03.595840Z"
    },
    "papermill": {
     "duration": 0.275366,
     "end_time": "2024-08-17T12:30:03.599249",
     "exception": false,
     "start_time": "2024-08-17T12:30:03.323883",
     "status": "completed"
    },
    "tags": []
   },
   "outputs": [],
   "source": [
    "photo_img, monet_img = next(iter(img_dl))"
   ]
  },
  {
   "cell_type": "code",
   "execution_count": 11,
   "id": "36d868bf",
   "metadata": {
    "execution": {
     "iopub.execute_input": "2024-08-17T12:30:03.610522Z",
     "iopub.status.busy": "2024-08-17T12:30:03.610215Z",
     "iopub.status.idle": "2024-08-17T12:30:03.656375Z",
     "shell.execute_reply": "2024-08-17T12:30:03.655500Z"
    },
    "papermill": {
     "duration": 0.053732,
     "end_time": "2024-08-17T12:30:03.658204",
     "exception": false,
     "start_time": "2024-08-17T12:30:03.604472",
     "status": "completed"
    },
    "tags": []
   },
   "outputs": [],
   "source": [
    "def unnorm(img, mean = [0.5, 0.5, 0.5], std = [0.5, 0.5, 0.5]):\n",
    "    for t, m, s in zip(img, mean, std):\n",
    "        t.mul_(s).add_(s)\n",
    "        \n",
    "        return img"
   ]
  },
  {
   "cell_type": "code",
   "execution_count": null,
   "id": "b08960df",
   "metadata": {
    "papermill": {
     "duration": 0.00404,
     "end_time": "2024-08-17T12:30:03.666537",
     "exception": false,
     "start_time": "2024-08-17T12:30:03.662497",
     "status": "completed"
    },
    "tags": []
   },
   "outputs": [],
   "source": []
  }
 ],
 "metadata": {
  "kaggle": {
   "accelerator": "gpu",
   "dataSources": [
    {
     "databundleVersionId": 1475600,
     "sourceId": 21755,
     "sourceType": "competition"
    }
   ],
   "dockerImageVersionId": 30748,
   "isGpuEnabled": true,
   "isInternetEnabled": true,
   "language": "python",
   "sourceType": "notebook"
  },
  "kernelspec": {
   "display_name": "Python 3",
   "language": "python",
   "name": "python3"
  },
  "language_info": {
   "codemirror_mode": {
    "name": "ipython",
    "version": 3
   },
   "file_extension": ".py",
   "mimetype": "text/x-python",
   "name": "python",
   "nbconvert_exporter": "python",
   "pygments_lexer": "ipython3",
   "version": "3.10.13"
  },
  "papermill": {
   "default_parameters": {},
   "duration": 12.57328,
   "end_time": "2024-08-17T12:30:05.091231",
   "environment_variables": {},
   "exception": null,
   "input_path": "__notebook__.ipynb",
   "output_path": "__notebook__.ipynb",
   "parameters": {},
   "start_time": "2024-08-17T12:29:52.517951",
   "version": "2.5.0"
  }
 },
 "nbformat": 4,
 "nbformat_minor": 5
}
